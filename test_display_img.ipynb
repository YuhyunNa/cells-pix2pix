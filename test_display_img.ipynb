{
 "cells": [
  {
   "cell_type": "code",
   "execution_count": 1,
   "id": "081cac4d-b34e-4078-afeb-edb92bd8219a",
   "metadata": {},
   "outputs": [],
   "source": [
    "def draw(category, idx, path, n_epoch, rows, cols, fig):\n",
    "    file_name = os.path.join(path, f'{n_epoch}{category}.png')\n",
    "    if not os.path.isfile(file_name):\n",
    "        raise Exception('FileNotFound')\n",
    "        \n",
    "    ax = fig.add_subplot(rows, cols, idx + 1)\n",
    "    ax.set_title(f'{n_epoch}{category}')\n",
    "    ax.grid(False)\n",
    "    ax.set_xticks([])\n",
    "    ax.set_yticks([])\n",
    "    img = mpimg.imread(file_name)\n",
    "    ax.imshow(img)"
   ]
  },
  {
   "cell_type": "code",
   "execution_count": null,
   "id": "4e3b19e8-cb45-425f-b71c-08e1763f69b6",
   "metadata": {
    "scrolled": true,
    "tags": []
   },
   "outputs": [],
   "source": [
    "import matplotlib.pyplot as plt\n",
    "import matplotlib.image as mpimg\n",
    "import os\n",
    "from glob import glob\n",
    "\n",
    "# displays results of test_latest\n",
    "\n",
    "path = './results/o_300_epochs/test_latest/images'\n",
    "categories = ['_real_A', '_fake_B', '_real_B']\n",
    "\n",
    "for item in glob(os.path.join(path,'*.png')):\n",
    "    n_epoch = os.path.basename(item)[:-11]\n",
    "\n",
    "    fig = plt.figure(figsize=(10, 10))\n",
    "    rows = 1; cols = 3\n",
    "    \n",
    "    \n",
    "    for idx, category in enumerate(categories):\n",
    "        draw(category, idx, path, n_epoch, rows, cols, fig)\n",
    "    \n",
    "\n",
    "    fig.tight_layout()\n",
    "    plt.show()"
   ]
  }
 ],
 "metadata": {
  "kernelspec": {
   "display_name": "cell_pix2pix",
   "language": "python",
   "name": "cell_pix2pix"
  },
  "language_info": {
   "codemirror_mode": {
    "name": "ipython",
    "version": 3
   },
   "file_extension": ".py",
   "mimetype": "text/x-python",
   "name": "python",
   "nbconvert_exporter": "python",
   "pygments_lexer": "ipython3",
   "version": "3.8.16"
  }
 },
 "nbformat": 4,
 "nbformat_minor": 5
}
