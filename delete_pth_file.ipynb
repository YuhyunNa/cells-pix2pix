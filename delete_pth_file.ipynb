{
 "cells": [
  {
   "cell_type": "code",
   "execution_count": 11,
   "id": "05eec5f8-be2e-4a2a-a0f5-8b743a604990",
   "metadata": {},
   "outputs": [
    {
     "name": "stdout",
     "output_type": "stream",
     "text": [
      "latest_net_D.pth\n",
      "latest_net_G.pth\n"
     ]
    }
   ],
   "source": [
    "from glob import glob\n",
    "import os\n",
    "\n",
    "# delete every pth file except for latest ones.\n",
    "\n",
    "path = './checkpoint/o_300_epochs/*.pth'\n",
    "\n",
    "for item in glob(path):\n",
    "    basename = os.path.basename(item)\n",
    "    \n",
    "    if basename[0:basename.find('_')] == 'latest':\n",
    "        pass\n",
    "    else:\n",
    "        os.remove(item)\n",
    "    print(basename)"
   ]
  }
 ],
 "metadata": {
  "kernelspec": {
   "display_name": "Python 3",
   "language": "python",
   "name": "python3"
  },
  "language_info": {
   "codemirror_mode": {
    "name": "ipython",
    "version": 3
   },
   "file_extension": ".py",
   "mimetype": "text/x-python",
   "name": "python",
   "nbconvert_exporter": "python",
   "pygments_lexer": "ipython3",
   "version": "3.9.0"
  }
 },
 "nbformat": 4,
 "nbformat_minor": 5
}
