{
 "cells": [
  {
   "cell_type": "code",
   "execution_count": 2,
   "id": "d7895940-ce3f-4690-8e90-a29ec6397e3e",
   "metadata": {},
   "outputs": [],
   "source": [
    "def draw(category, idx, path, n_epoch, rows, cols, fig):\n",
    "    file_name = os.path.join(path, f'{n_epoch}{category}.png')\n",
    "    if not os.path.isfile(file_name):\n",
    "        raise Exception('FileNotFound')\n",
    "        \n",
    "    ax = fig.add_subplot(rows, cols, idx + 1)\n",
    "    ax.set_title(f'{n_epoch}{category}')\n",
    "    ax.grid(False)\n",
    "    ax.set_xticks([])\n",
    "    ax.set_yticks([])\n",
    "    img = mpimg.imread(os.path.join(path, f'{n_epoch}{category}.png'))\n",
    "    ax.imshow(img)"
   ]
  },
  {
   "cell_type": "code",
   "execution_count": null,
   "id": "17dbffe9-ca16-4024-9882-02d8dc2c8aef",
   "metadata": {
    "scrolled": true,
    "tags": []
   },
   "outputs": [],
   "source": [
    "import matplotlib.pyplot as plt\n",
    "import matplotlib.image as mpimg\n",
    "import os\n",
    "from glob import glob\n",
    "\n",
    "# display an image of each epoch\n",
    "\n",
    "model_name = 'o_300_epochs'\n",
    "total_epoch = 300\n",
    "\n",
    "\n",
    "path = f'./checkpoint/{model_name}/web/images'\n",
    "\n",
    "file_list = glob(os.path.join(path, '*.png'))\n",
    "print(f'len(flieList) is {len(file_list)}')\n",
    "\n",
    "if len(file_list) != total_epoch * 3:\n",
    "    raise Exception('There are some missing files')\n",
    "\n",
    "\n",
    "categories = ['_real_A', '_fake_B', '_real_B']\n",
    "\n",
    "for i in range(total_epoch):\n",
    "    n_epoch = 'epoch' + f\"00{i+1}\"[-3:]\n",
    "    print(n_epoch)\n",
    "    \n",
    "    fig = plt.figure(figsize=(10, 10))\n",
    "    rows = 1; cols = 3\n",
    "    \n",
    "    for idx, category in enumerate(categories):\n",
    "        draw(category, idx, path, n_epoch, rows, cols, fig)\n",
    "\n",
    "    fig.tight_layout()\n",
    "    plt.show()\n",
    "    print()"
   ]
  },
  {
   "cell_type": "code",
   "execution_count": null,
   "id": "4e870de0-39fd-42ba-a1f5-50b4832109e8",
   "metadata": {},
   "outputs": [],
   "source": []
  }
 ],
 "metadata": {
  "kernelspec": {
   "display_name": "cell_pix2pix",
   "language": "python",
   "name": "cell_pix2pix"
  },
  "language_info": {
   "codemirror_mode": {
    "name": "ipython",
    "version": 3
   },
   "file_extension": ".py",
   "mimetype": "text/x-python",
   "name": "python",
   "nbconvert_exporter": "python",
   "pygments_lexer": "ipython3",
   "version": "3.8.16"
  }
 },
 "nbformat": 4,
 "nbformat_minor": 5
}
